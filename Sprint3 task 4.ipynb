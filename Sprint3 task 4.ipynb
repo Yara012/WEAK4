{
 "cells": [
  {
   "cell_type": "code",
   "execution_count": null,
   "id": "2aa49ad9",
   "metadata": {},
   "outputs": [],
   "source": [
    "#Detect Floating Point Number\n",
    "import re\n",
    "\n",
    "class Main():\n",
    "    def __init__(self):\n",
    "        self.n = int(input())\n",
    "        \n",
    "        for i in range(self.n):\n",
    "            self.s = input()\n",
    "            print(bool(re.match(r'^[-+]?[0-9]*\\.[0-9]+$', self.s)))\n",
    "                    \n",
    "if __name__ == '__main__':\n",
    "    obj = Main()"
   ]
  },
  {
   "cell_type": "code",
   "execution_count": null,
   "id": "5f1fedc6",
   "metadata": {},
   "outputs": [],
   "source": [
    "#re,split()\n",
    "regex_pattern = r\"[.,]+\"\t# Do not delete 'r'.   \n",
    "import re\n",
    "print(\"\\n\".join(re.split(regex_pattern, input())))"
   ]
  },
  {
   "cell_type": "code",
   "execution_count": null,
   "id": "27fe34ce",
   "metadata": {},
   "outputs": [],
   "source": [
    "#map and lampada function \n",
    "cube = lambda x: x**3# complete the lambda function \n",
    "\n",
    "def fibonacci(n):\n",
    "    # return a list of fibonacci numbers\n",
    "    # Map and Lambda Function in Python - Hacker Rank Solution START\n",
    "    storage = [0, 1]\n",
    "    for i in range(2, n):\n",
    "        storage.append(storage[i-1] + storage[i-2])\n",
    "    return(storage[0:n])\n",
    "    # Map and Lambda Function in Python - Hacker Rank Solution END\n",
    "    \n",
    "if __name__ == '__main__':\n",
    "    n = int(input())\n",
    "    print(list(map(cube, fibonacci(n))))"
   ]
  },
  {
   "cell_type": "code",
   "execution_count": null,
   "id": "3777b47d",
   "metadata": {},
   "outputs": [],
   "source": [
    "#Validating Email Addresses With a Filter \n",
    "def fun(s):\n",
    "    # return True if s is a valid email, else return False\n",
    "    try:\n",
    "        username, url = s.split('@')\n",
    "        website,extension = url.split('.')\n",
    "    except ValueError:\n",
    "        return False\n",
    "    \n",
    "    if username.replace('-','').replace('_','').isalnum() is False:\n",
    "        return False\n",
    "    \n",
    "    elif website.isalnum() is False:\n",
    "        return False\n",
    "    \n",
    "    elif len(extension) > 3:\n",
    "        return False\n",
    "    \n",
    "    else :\n",
    "        return True\n",
    "def filter_mail(emails):\n",
    "    return list(filter(fun, emails))\n",
    "\n",
    "if __name__ == '__main__':\n",
    "    n = int(input())\n",
    "    emails = []\n",
    "    for _ in range(n):\n",
    "        emails.append(input())\n",
    "\n",
    "filtered_emails = filter_mail(emails)\n",
    "filtered_emails.sort()\n",
    "print(filtered_emails)"
   ]
  },
  {
   "cell_type": "code",
   "execution_count": null,
   "id": "063272d3",
   "metadata": {},
   "outputs": [],
   "source": [
    "#Group(), Groups() & Groupdict()\n",
    "import re\n",
    "\n",
    "expression=r\"([a-zA-Z0-9])\\1+\"\n",
    "\n",
    "m = re.search(expression,input())\n",
    "\n",
    "if m:\n",
    "    print(m.group(1))\n",
    "else:\n",
    "    print(-1)"
   ]
  },
  {
   "cell_type": "code",
   "execution_count": null,
   "id": "d5fe4aae",
   "metadata": {},
   "outputs": [],
   "source": [
    "#Reduce Function\n",
    "from fractions import Fraction\n",
    "from functools import reduce\n",
    "\n",
    "def product(fracs):\n",
    "    t = Fraction(reduce(lambda x, y: x * y, fracs))\n",
    "     # complete this line with a reduce statement\n",
    "    # Reduce Function in Python - Hacker Rank Solution END\n",
    "    return t.numerator, t.denominator\n",
    "\n",
    "\n",
    "if __name__ == '__main__':"
   ]
  },
  {
   "cell_type": "code",
   "execution_count": null,
   "id": "2c62bd39",
   "metadata": {},
   "outputs": [],
   "source": []
  }
 ],
 "metadata": {
  "kernelspec": {
   "display_name": "Python 3",
   "language": "python",
   "name": "python3"
  },
  "language_info": {
   "codemirror_mode": {
    "name": "ipython",
    "version": 3
   },
   "file_extension": ".py",
   "mimetype": "text/x-python",
   "name": "python",
   "nbconvert_exporter": "python",
   "pygments_lexer": "ipython3",
   "version": "3.8.8"
  }
 },
 "nbformat": 4,
 "nbformat_minor": 5
}
