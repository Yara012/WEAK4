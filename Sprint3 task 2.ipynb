{
 "cells": [
  {
   "cell_type": "code",
   "execution_count": null,
   "id": "5b67b293",
   "metadata": {},
   "outputs": [],
   "source": [
    "#collections.Counter()\n",
    "from collections import Counter\n",
    "X = input()\n",
    "S = Counter(map(int,input().split()))\n",
    "n = input()\n",
    "N = int(n) \n",
    "earnings = 0\n",
    "for customer in range(N):\n",
    "    size, x_i = map(int,input().split())\n",
    "    if size in S and S[size] > 0:\n",
    "        S[size] -= 1\n",
    "        earnings += x_i\n",
    "            \n",
    "print(earnings)\n"
   ]
  },
  {
   "cell_type": "code",
   "execution_count": null,
   "id": "82e45ce5",
   "metadata": {},
   "outputs": [],
   "source": [
    "#Word Order\n",
    "from collections import Counter\n",
    "n=int(input())\n",
    "l=list()\n",
    "for _ in range(n):\n",
    "    l.append(input())\n",
    "x=Counter(l)    \n",
    "print(len(x))\n",
    "print(*x.values())"
   ]
  },
  {
   "cell_type": "code",
   "execution_count": null,
   "id": "13b8cd00",
   "metadata": {},
   "outputs": [],
   "source": [
    "#Collections.deque()\n",
    "from collections import deque\n",
    "d = deque()\n",
    "\n",
    "for i in range (int(input())):\n",
    "    inp=input()\n",
    "    if inp==\"pop\":\n",
    "        d.pop()\n",
    "    elif inp==\"popleft\": \n",
    "        d.popleft()\n",
    "    else :\n",
    "     command,value=inp.split()    \n",
    "     value=int(value)\n",
    "     if command== \"append\":\n",
    "        d.append(value)\n",
    "     else:\n",
    "        d.appendleft(value)   \n",
    "        \n",
    "print(*d)         \n",
    "        "
   ]
  },
  {
   "cell_type": "code",
   "execution_count": null,
   "id": "91cfadbd",
   "metadata": {},
   "outputs": [],
   "source": [
    "#Piling Up!\n",
    "from collections import deque\n",
    "\n",
    "def piling(d):\n",
    "    while d:\n",
    "        large=None\n",
    "        if d[-1] > d[0]:\n",
    "            large= d.pop()\n",
    "        else:\n",
    "         large=d.popleft()\n",
    "        if len(d)==0:\n",
    "            return \"Yes\"\n",
    "        \n",
    "        if d[-1]>large or d[0]>large:\n",
    "            return \"No\"\n",
    "\n",
    "for i in range (int(input())):\n",
    "    noofcube=int(input()) \n",
    "    d=deque(map(int,input().split()))\n",
    "    print(piling(d))           \n"
   ]
  },
  {
   "cell_type": "code",
   "execution_count": null,
   "id": "2b931587",
   "metadata": {},
   "outputs": [],
   "source": [
    "from collections import OrderedDict\n",
    "N = int(input());\n",
    "d = OrderedDict();\n",
    "for i in range(N):\n",
    "    item = input().split()\n",
    "    itemPrice = int(item[-1])\n",
    "    itemName = \" \".join(item[:-1])\n",
    "    if(d.get(itemName)):\n",
    "        d[itemName] += itemPrice\n",
    "    else:\n",
    "        d[itemName] = itemPrice\n",
    "for i in d.keys():\n",
    "    print(i, d[i])"
   ]
  },
  {
   "cell_type": "code",
   "execution_count": null,
   "id": "5d5153c8",
   "metadata": {},
   "outputs": [],
   "source": [
    "#Collections.namedtuple()\n",
    "import collections\n",
    "n = int(input())\n",
    "scol = ','.join(input().split())\n",
    "Student = collections.namedtuple('Student',scol)\n",
    "\n",
    "sum = 0\n",
    "for i in range(n):\n",
    "    row = input().split()\n",
    "    student = Student(*row)\n",
    "    sum += int(student.MARKS)\n",
    "\n",
    "print(sum/n)"
   ]
  }
 ],
 "metadata": {
  "kernelspec": {
   "display_name": "Python 3",
   "language": "python",
   "name": "python3"
  },
  "language_info": {
   "codemirror_mode": {
    "name": "ipython",
    "version": 3
   },
   "file_extension": ".py",
   "mimetype": "text/x-python",
   "name": "python",
   "nbconvert_exporter": "python",
   "pygments_lexer": "ipython3",
   "version": "3.8.8"
  }
 },
 "nbformat": 4,
 "nbformat_minor": 5
}
