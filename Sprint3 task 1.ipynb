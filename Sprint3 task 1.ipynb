{
 "cells": [
  {
   "cell_type": "code",
   "execution_count": 1,
   "id": "90cb0749",
   "metadata": {},
   "outputs": [
    {
     "name": "stdout",
     "output_type": "stream",
     "text": [
      "1 2\n",
      "3 4\n",
      "(1, 3) (1, 4) (2, 3) (2, 4) "
     ]
    }
   ],
   "source": [
    "#itertools.product()\n",
    "\n",
    "from itertools import product\n",
    "listA=input().split()\n",
    "listA=list(map(int,listA))\n",
    "listB=input().split()\n",
    "listB=list(map(int,listB))\n",
    "\n",
    "output = list(product(listA,listB))\n",
    "for i in output:\n",
    "    print(i, end = \" \")\n"
   ]
  },
  {
   "cell_type": "code",
   "execution_count": 3,
   "id": "72131bb0",
   "metadata": {},
   "outputs": [
    {
     "name": "stdout",
     "output_type": "stream",
     "text": [
      "yara 2\n",
      "aa\n",
      "aa\n",
      "ar\n",
      "ar\n",
      "ay\n",
      "ay\n",
      "ra\n",
      "ra\n",
      "ry\n",
      "ya\n",
      "ya\n",
      "yr\n"
     ]
    }
   ],
   "source": [
    "#itertools.permutations()\n",
    "from itertools import permutations\n",
    "S,k=input().split()\n",
    "\n",
    "output = list(permutations(S,int (k)))\n",
    "output = sorted(output, reverse=False)\n",
    "for i in output:\n",
    "    print(*i,sep=\"\")"
   ]
  },
  {
   "cell_type": "code",
   "execution_count": null,
   "id": "64977941",
   "metadata": {},
   "outputs": [],
   "source": [
    "#itertools.combinations()\n",
    "from itertools import combinations\n",
    "io=input().split()\n",
    "S = io[0]\n",
    "k = int(io[1])\n",
    "for i in range(1,k+1):\n",
    "    for j in combinations(sorted(S),i):\n",
    "        print(\"\".join(j))\n"
   ]
  },
  {
   "cell_type": "code",
   "execution_count": null,
   "id": "1e1d63f3",
   "metadata": {},
   "outputs": [],
   "source": [
    "#itertools.combinations_with_replacement()\n",
    "from itertools import combinations_with_replacement     \n",
    "S,k=input().split()\n",
    "for j in combinations_with_replacement(sorted(S),int (k)):\n",
    "        print(\"\".join(j))"
   ]
  },
  {
   "cell_type": "code",
   "execution_count": null,
   "id": "3e140df0",
   "metadata": {},
   "outputs": [],
   "source": [
    "#Compress the string\n",
    "s=input()\n",
    "prev_c=''\n",
    "count=0\n",
    "Out=()\n",
    "for c in s :\n",
    "    if c == prev_c:\n",
    "        count+=1\n",
    "    else:\n",
    "        if prev_c!='':\n",
    "            print((count+1,int(prev_c)), end=\" \")\n",
    "        prev_c=c\n",
    "        count=0\n",
    "print((count+1,int(prev_c)),end=\" \")"
   ]
  },
  {
   "cell_type": "code",
   "execution_count": null,
   "id": "b8474eb5",
   "metadata": {},
   "outputs": [],
   "source": [
    "I#terables and Iterators\n",
    "from itertools import combinations\n",
    "N = int(input())\n",
    "L = input().split()\n",
    "K = int(input())\n",
    "\n",
    "C = list(combinations(L, K))\n",
    "F = filter(lambda c: 'a' in c, C)\n",
    "print(\"{0:.3}\".format(len(list(F))/len(C)))"
   ]
  }
 ],
 "metadata": {
  "kernelspec": {
   "display_name": "Python 3",
   "language": "python",
   "name": "python3"
  },
  "language_info": {
   "codemirror_mode": {
    "name": "ipython",
    "version": 3
   },
   "file_extension": ".py",
   "mimetype": "text/x-python",
   "name": "python",
   "nbconvert_exporter": "python",
   "pygments_lexer": "ipython3",
   "version": "3.8.8"
  }
 },
 "nbformat": 4,
 "nbformat_minor": 5
}
